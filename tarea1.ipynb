{
    "metadata": {
        "kernelspec": {
            "name": "python3",
            "display_name": "Python 3 (ipykernel)",
            "language": "python"
        },
        "language_info": {
            "name": "python",
            "version": "3.9.12",
            "mimetype": "text/x-python",
            "codemirror_mode": {
                "name": "ipython",
                "version": 3
            },
            "pygments_lexer": "ipython3",
            "nbconvert_exporter": "python",
            "file_extension": ".py"
        }
    },
    "nbformat_minor": 2,
    "nbformat": 4,
    "cells": [
        {
            "cell_type": "code",
            "source": [
                "import urllib.request\r\n",
                "from bs4 import BeautifulSoup"
            ],
            "metadata": {
                "azdata_cell_guid": "33be084d-d098-43d2-ab32-fd547a7448da",
                "language": "python"
            },
            "outputs": [],
            "execution_count": 30
        },
        {
            "cell_type": "code",
            "source": [
                "def leerUrl(pagina):\r\n",
                "    \r\n",
                "    soup = BeautifulSoup(urllib.request.urlopen(pagina).read().decode())"
            ],
            "metadata": {
                "language": "python",
                "azdata_cell_guid": "9ab31315-da20-4359-8e35-f8f65cc0b0dc"
            },
            "outputs": [],
            "execution_count": 31
        },
        {
            "cell_type": "code",
            "source": [
                "Pagina = 'https://github.com/pescap/WebScrapingMDS'\r\n",
                "page = leerUrl(Pagina)\r\n",
                ""
            ],
            "metadata": {
                "language": "python",
                "azdata_cell_guid": "33a112f7-0528-4b91-946c-eac4bfa88d2e"
            },
            "outputs": [],
            "execution_count": 32
        },
        {
            "cell_type": "code",
            "source": [
                "page"
            ],
            "metadata": {
                "language": "python",
                "azdata_cell_guid": "afe506b1-4291-46a7-a2f6-d5669d8cfc96"
            },
            "outputs": [],
            "execution_count": 33
        }
    ]
}