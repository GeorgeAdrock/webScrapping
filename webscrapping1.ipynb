{
    "metadata": {
        "kernelspec": {
            "name": "python3",
            "display_name": "Python 3 (ipykernel)",
            "language": "python"
        },
        "language_info": {
            "name": "python",
            "version": "3.9.12",
            "mimetype": "text/x-python",
            "codemirror_mode": {
                "name": "ipython",
                "version": 3
            },
            "pygments_lexer": "ipython3",
            "nbconvert_exporter": "python",
            "file_extension": ".py"
        }
    },
    "nbformat_minor": 2,
    "nbformat": 4,
    "cells": [
        {
            "cell_type": "markdown",
            "source": [
                "# Librerias"
            ],
            "metadata": {
                "language": "python",
                "azdata_cell_guid": "e200e12d-cf74-4d54-ac82-845584761082"
            },
            "attachments": {}
        },
        {
            "cell_type": "code",
            "source": [
                "import urllib.request\r\n",
                "from bs4 import BeautifulSoup\r\n",
                ""
            ],
            "metadata": {
                "azdata_cell_guid": "039c4140-24ff-4711-81dc-c06003a8fb77",
                "language": "python"
            },
            "outputs": [],
            "execution_count": 91
        },
        {
            "cell_type": "markdown",
            "source": [
                "# Funciones"
            ],
            "metadata": {
                "language": "python",
                "azdata_cell_guid": "e5e05270-8347-45c7-ac9c-392bc0ac5498"
            },
            "attachments": {}
        },
        {
            "cell_type": "code",
            "source": [
                "def leerUrl(pagina):\r\n",
                "    \r\n",
                "    soup = BeautifulSoup(urllib.request.urlopen(pagina).read().decode())\r\n",
                "    return  soup\r\n",
                "def ParsearPagina (html_doc):\r\n",
                "    return BeautifulSoup(html_doc, 'html.parser')\r\n",
                "\r\n",
                "def ExtraerLinkPaginasOfertas(linkPage,patronBusqueda):\r\n",
                "    listaofertas = []\r\n",
                "    for tag in linkPage:\r\n",
                "        valor = tag.get('href')\r\n",
                "        if(valor.find(patronBusqueda) != -1):\r\n",
                "            listaofertas.append('https://postulaciones.trabajaenitau.cl'+valor)\r\n",
                "    return listaofertas"
            ],
            "metadata": {
                "language": "python",
                "azdata_cell_guid": "e0fecf3c-1d84-4932-b84d-bfec33fc97bc",
                "tags": []
            },
            "outputs": [],
            "execution_count": 92
        },
        {
            "cell_type": "markdown",
            "source": [
                "# Cargar Pagina de Interes"
            ],
            "metadata": {
                "language": "python",
                "azdata_cell_guid": "e7a77616-7c76-424e-9839-59b3ded662d7"
            },
            "attachments": {}
        },
        {
            "cell_type": "code",
            "source": [
                "Pagina = 'https://trabajaenitau.cl/ofertas'\r\n",
                "DataPaginaBase = leerUrl(Pagina)\r\n",
                ""
            ],
            "metadata": {
                "language": "python",
                "azdata_cell_guid": "fde5816b-3f68-4dbc-9f45-604be5060aba"
            },
            "outputs": [],
            "execution_count": 93
        },
        {
            "cell_type": "markdown",
            "source": [
                "# Extraer Lista de Ofertas"
            ],
            "metadata": {
                "language": "python",
                "azdata_cell_guid": "14dd6fd9-00df-4ea3-b7b1-202d1e229274"
            },
            "attachments": {}
        },
        {
            "cell_type": "code",
            "source": [
                "patron = '/ofertas/'\r\n",
                "tags = DataPaginaBase('a')\r\n",
                "\r\n",
                "listaOfertas = ExtraerLinkPaginasOfertas(tags,patron)\r\n",
                ""
            ],
            "metadata": {
                "language": "python",
                "azdata_cell_guid": "1646b0c8-003a-433b-962d-579067cbd742"
            },
            "outputs": [],
            "execution_count": 94
        },
        {
            "cell_type": "code",
            "source": [
                "listaofertas"
            ],
            "metadata": {
                "language": "python",
                "azdata_cell_guid": "324ef4bb-5adb-49a4-8c1f-62d6a5250798"
            },
            "outputs": [
                {
                    "data": {
                        "text/plain": "['https://postulaciones.trabajaenitau.cl/ofertas/2976-analista-planificacion-financiera',\n 'https://postulaciones.trabajaenitau.cl/ofertas/2819-ejecutivo-pyme-rm',\n 'https://postulaciones.trabajaenitau.cl/ofertas/3063-ejecutivo-grandes-empresas',\n 'https://postulaciones.trabajaenitau.cl/ofertas/3033-analista-control-de-gestion',\n 'https://postulaciones.trabajaenitau.cl/ofertas/3021-analista-de-transformacion-jr',\n 'https://postulaciones.trabajaenitau.cl/ofertas/2877-ejecutivo-comercial-ffvv-talca',\n 'https://postulaciones.trabajaenitau.cl/ofertas/3060-ingeniero-de-proyectos',\n 'https://postulaciones.trabajaenitau.cl/ofertas/3055-ejecutivo-empresas-minorista-region-metropolitana',\n 'https://postulaciones.trabajaenitau.cl/ofertas/3049-analista-sr-servicios-generales',\n 'https://postulaciones.trabajaenitau.cl/ofertas/3044-portfolio-manager-junior-renta-fija',\n 'https://postulaciones.trabajaenitau.cl/ofertas/3037-data-science',\n 'https://postulaciones.trabajaenitau.cl/ofertas/3032-analista-financiero-control-de-gestion-junior',\n 'https://postulaciones.trabajaenitau.cl/ofertas/3028-practica-riesgo-operacional',\n 'https://postulaciones.trabajaenitau.cl/ofertas/3006-automatizador-qa',\n 'https://postulaciones.trabajaenitau.cl/ofertas/3020-jefe-de-inversiones',\n 'https://postulaciones.trabajaenitau.cl/ofertas/3017-threat-analyst',\n 'https://postulaciones.trabajaenitau.cl/ofertas/3016-analista-de-gestion-e-inteligencia-operacional',\n 'https://postulaciones.trabajaenitau.cl/ofertas/2922-ejecutivo-de-cuentas-banca-personas-region-metropolitana',\n 'https://postulaciones.trabajaenitau.cl/ofertas/2915-ejecutivo-comercial-ffvv-santiago',\n 'https://postulaciones.trabajaenitau.cl/ofertas/2871-programa-de-talento-digital-profesionales-ti-junior',\n 'https://postulaciones.trabajaenitau.cl/ofertas/3013-ejecutivo-comercial-ffvv-antofagasta',\n 'https://postulaciones.trabajaenitau.cl/ofertas/3012-analista-middle-office-mesa-internacional-plazo-fijo',\n 'https://postulaciones.trabajaenitau.cl/ofertas/3007-analista-servicio-al-cliente',\n 'https://postulaciones.trabajaenitau.cl/ofertas/3011-analista-contable-jr-reemplazo-pre-y-post-natal',\n 'https://postulaciones.trabajaenitau.cl/ofertas/3008-business-analyst-junior',\n 'https://postulaciones.trabajaenitau.cl/ofertas/3002-ejecutivo-clientes-condell-estacion-central',\n 'https://postulaciones.trabajaenitau.cl/ofertas/3001-especialista-en-area-middle-office',\n 'https://postulaciones.trabajaenitau.cl/ofertas/2813-ejecutivo-empresas-v-region',\n 'https://postulaciones.trabajaenitau.cl/ofertas/3000-especialista-legal',\n 'https://postulaciones.trabajaenitau.cl/ofertas/2995-desarrollador-back-end',\n 'https://postulaciones.trabajaenitau.cl/ofertas/2994-analista-de-procesos-y-digitalizacion',\n 'https://postulaciones.trabajaenitau.cl/ofertas/2480-ejecutivo-de-cuentas-banca-personas-sucursal-digital',\n 'https://postulaciones.trabajaenitau.cl/ofertas/2982-programa-de-practica-en-diversidad-e-inclusion',\n 'https://postulaciones.trabajaenitau.cl/ofertas/2983-programa-de-practica-de-sustentabilidad',\n 'https://postulaciones.trabajaenitau.cl/ofertas/2988-agile-pmo',\n 'https://postulaciones.trabajaenitau.cl/ofertas/2985-ejecutivo-cashmanagement-plazo-fijo',\n 'https://postulaciones.trabajaenitau.cl/ofertas/2979-jefe-de-proyectos-rpa',\n 'https://postulaciones.trabajaenitau.cl/ofertas/2978-analista-financiero-franquicia',\n 'https://postulaciones.trabajaenitau.cl/ofertas/2975-ingeniero-en-ciberseguridad',\n 'https://postulaciones.trabajaenitau.cl/ofertas/2973-consultor-de-compras-ti-senior',\n 'https://postulaciones.trabajaenitau.cl/ofertas/2972-ingeniero-cloud',\n 'https://postulaciones.trabajaenitau.cl/ofertas/2971-analista-de-prevencion-de-lavado-de-dinero-aml-estadistico',\n 'https://postulaciones.trabajaenitau.cl/ofertas/2970-analista-de-prevencion-de-lavado-de-dinero-aml',\n 'https://postulaciones.trabajaenitau.cl/ofertas/2944-analista-crm-junior',\n 'https://postulaciones.trabajaenitau.cl/ofertas/2950-ejecutivo-empresas-curico',\n 'https://postulaciones.trabajaenitau.cl/ofertas/2949-trader-alm-junior',\n 'https://postulaciones.trabajaenitau.cl/ofertas/2947-analista-experiencia-cliente',\n 'https://postulaciones.trabajaenitau.cl/ofertas/2946-ejecutivo-banca-personas-rancagua',\n 'https://postulaciones.trabajaenitau.cl/ofertas/2943-analista-programador-de-inversiones',\n 'https://postulaciones.trabajaenitau.cl/ofertas/2932-ejecutivo-empresas-region-metropolitana',\n 'https://postulaciones.trabajaenitau.cl/ofertas/2931-ejecutivo-empresas-plazo-fijo-region-metropolitana',\n 'https://postulaciones.trabajaenitau.cl/ofertas/2930-supervisor-contact-center',\n 'https://postulaciones.trabajaenitau.cl/ofertas/2929-community-manager',\n 'https://postulaciones.trabajaenitau.cl/ofertas/2928-disenador-digital',\n 'https://postulaciones.trabajaenitau.cl/ofertas/2926-supervisor-comercial-ffvv-v-region',\n 'https://postulaciones.trabajaenitau.cl/ofertas/2923-analista-de-transformacion',\n 'https://postulaciones.trabajaenitau.cl/ofertas/2913-anfitrion-personal-bank',\n 'https://postulaciones.trabajaenitau.cl/ofertas/2920-analista-gestion-inmobiliaria-y-bienes-recibidos-en-pago',\n 'https://postulaciones.trabajaenitau.cl/ofertas/2909-ejecutivo-comercial-ffvv-calama',\n 'https://postulaciones.trabajaenitau.cl/ofertas/2844-analista-de-riesgo-tecnologico',\n 'https://postulaciones.trabajaenitau.cl/ofertas/2902-especialista-de-producto',\n 'https://postulaciones.trabajaenitau.cl/ofertas/2899-ejecutivo-de-inversiones-corner',\n 'https://postulaciones.trabajaenitau.cl/ofertas/2894-ux-researcher',\n 'https://postulaciones.trabajaenitau.cl/ofertas/2885-gestor-de-incidentes-ti',\n 'https://postulaciones.trabajaenitau.cl/ofertas/2876-ejecutivo-clientes-condell-calama',\n 'https://postulaciones.trabajaenitau.cl/ofertas/2874-analista-de-gestion-de-vulnerabilidades',\n 'https://postulaciones.trabajaenitau.cl/ofertas/2867-analista-control-de-riesgo-senior',\n 'https://postulaciones.trabajaenitau.cl/ofertas/2862-jefe-auditoria-riesgo-de-credito',\n 'https://postulaciones.trabajaenitau.cl/ofertas/2859-especialista-prevencion-de-fraudes',\n 'https://postulaciones.trabajaenitau.cl/ofertas/2733-jefe-aml',\n 'https://postulaciones.trabajaenitau.cl/ofertas/2855-especialista-en-gobierno-de-datos',\n 'https://postulaciones.trabajaenitau.cl/ofertas/2851-ejecutivo-clientes-condell-valparaiso',\n 'https://postulaciones.trabajaenitau.cl/ofertas/2850-agile-coach',\n 'https://postulaciones.trabajaenitau.cl/ofertas/2842-ejecutivo-pyme-la-serena',\n 'https://postulaciones.trabajaenitau.cl/ofertas/2838-analista-inteligencia-de-riesgo-junior',\n 'https://postulaciones.trabajaenitau.cl/ofertas/2837-desarrollador-junior',\n 'https://postulaciones.trabajaenitau.cl/ofertas/2836-auditor-senior-de-riesgo-de-modelos',\n 'https://postulaciones.trabajaenitau.cl/ofertas/2822-administrativo-calificado-reemplazo-pre-post-natal',\n 'https://postulaciones.trabajaenitau.cl/ofertas/2820-recepcionista-santiago',\n 'https://postulaciones.trabajaenitau.cl/ofertas/2816-analista-inteligencia-de-cobranza',\n 'https://postulaciones.trabajaenitau.cl/ofertas/2808-ejecutivo-clientes-condell-los-andes',\n 'https://postulaciones.trabajaenitau.cl/ofertas/2807-it-community-lead',\n 'https://postulaciones.trabajaenitau.cl/ofertas/2805-analista-de-fraudes',\n 'https://postulaciones.trabajaenitau.cl/ofertas/2796-administrador-de-base-de-datos-db2',\n 'https://postulaciones.trabajaenitau.cl/ofertas/2795-administrados-de-base-de-datos-sql-server',\n 'https://postulaciones.trabajaenitau.cl/ofertas/2791-ingeniero-de-seguridad-de-la-informacion',\n 'https://postulaciones.trabajaenitau.cl/ofertas/2781-ejecutivo-personal-bank-antofagasta',\n 'https://postulaciones.trabajaenitau.cl/ofertas/2780-ejecutivo-personal-bank-calama',\n 'https://postulaciones.trabajaenitau.cl/ofertas/2776-analista-riesgo-operacional',\n 'https://postulaciones.trabajaenitau.cl/ofertas/2771-auditor-junior',\n 'https://postulaciones.trabajaenitau.cl/ofertas/2753-tecnico-ti-activos-tecnologicos',\n 'https://postulaciones.trabajaenitau.cl/ofertas/2758-lider-de-comunidad-de-riesgo-y-fraude',\n 'https://postulaciones.trabajaenitau.cl/ofertas/2756-especialista-riesgo-minorista',\n 'https://postulaciones.trabajaenitau.cl/ofertas/2755-lider-coe-enterprise-solutions',\n 'https://postulaciones.trabajaenitau.cl/ofertas/2743-front-end-developer',\n 'https://postulaciones.trabajaenitau.cl/ofertas/2742-desarrollador-broker-integration-bus',\n 'https://postulaciones.trabajaenitau.cl/ofertas/2737-analista-riesgo-de-credito-mayorista',\n 'https://postulaciones.trabajaenitau.cl/ofertas/2736-auditor-senior-de-riesgos-financieros',\n 'https://postulaciones.trabajaenitau.cl/ofertas/2511-programa-jovenes-profesionales-area-comercial',\n 'https://postulaciones.trabajaenitau.cl/ofertas/2729-ejecutivo-empresas-minorista-concepcion',\n 'https://postulaciones.trabajaenitau.cl/ofertas/2721-ejecutivo-empresas-minorista-valdivia',\n 'https://postulaciones.trabajaenitau.cl/ofertas/2702-business-analyst',\n 'https://postulaciones.trabajaenitau.cl/ofertas/2700-analista-riesgo-de-credito-mayorista',\n 'https://postulaciones.trabajaenitau.cl/ofertas/2696-analista-de-riesgo-credito-para-el-segmento-inmobiliario-y-construccion',\n 'https://postulaciones.trabajaenitau.cl/ofertas/2693-auditor-interno-de-riesgos-regulatorios-y-compliance',\n 'https://postulaciones.trabajaenitau.cl/ofertas/2688-arquitecto-de-infraestructura-aws',\n 'https://postulaciones.trabajaenitau.cl/ofertas/2683-ejecutivo-personal-bank-region-metropolitana',\n 'https://postulaciones.trabajaenitau.cl/ofertas/2677-scrum-master',\n 'https://postulaciones.trabajaenitau.cl/ofertas/2650-analista-pleno-aprendizaje-y-cultura',\n 'https://postulaciones.trabajaenitau.cl/ofertas/2654-data-engineer',\n 'https://postulaciones.trabajaenitau.cl/ofertas/2642-product-owner',\n 'https://postulaciones.trabajaenitau.cl/ofertas/2638-lider-tecnico-ciberseguridad',\n 'https://postulaciones.trabajaenitau.cl/ofertas/2430-ingeniero-en-proteccion-de-datos',\n 'https://postulaciones.trabajaenitau.cl/ofertas/2429-cybersecurity-tech-lead',\n 'https://postulaciones.trabajaenitau.cl/ofertas/2327-sme-web-mobile-salesforce',\n 'https://postulaciones.trabajaenitau.cl/ofertas/2321-ejecutivo-de-cuentas-pyme-plazo-fijo',\n 'https://postulaciones.trabajaenitau.cl/ofertas/2308-administrador-de-base-de-datos-oracle-db2',\n 'https://postulaciones.trabajaenitau.cl/ofertas/2304-front-end-developer',\n 'https://postulaciones.trabajaenitau.cl/ofertas/1704-jefe-de-operaciones-seccion-ti',\n 'https://postulaciones.trabajaenitau.cl/ofertas/1296-ejecutivo-de-cuentas-pyme-regiones',\n 'https://postulaciones.trabajaenitau.clhttps://postulaciones.trabajaenitau.cl/ofertas/postulacion-general-itau/postular']"
                    },
                    "metadata": {},
                    "execution_count": 95,
                    "output_type": "execute_result"
                }
            ],
            "execution_count": 95
        },
        {
            "cell_type": "markdown",
            "source": [
                "# Prueba de Concepto \n",
                "\n",
                "se intentara trozar una primera oferta laboral para hacerla funcion y masiva posteriormente, asi la guardaria en un dataframe."
            ],
            "metadata": {
                "language": "python",
                "azdata_cell_guid": "fd8cb974-6d4b-45ad-84c3-b0cea951c5da"
            },
            "attachments": {}
        },
        {
            "cell_type": "code",
            "source": [
                "prueba = leerUrl(listaofertas[0])"
            ],
            "metadata": {
                "language": "python",
                "azdata_cell_guid": "527da3f8-a4e3-4e55-95fc-cc67497047d6"
            },
            "outputs": [],
            "execution_count": 96
        },
        {
            "cell_type": "code",
            "source": [
                "prueba\r\n",
                "#pag = ParsearPagina(prueba)\r\n",
                "\r\n",
                "#print(ParsearPagina(prueba).prettify())\r\n",
                "\r\n",
                ""
            ],
            "metadata": {
                "language": "python",
                "azdata_cell_guid": "99ea3d81-de46-4180-984d-61864ffa5788",
                "tags": []
            },
            "outputs": [
                {
                    "data": {
                        "text/plain": "<!DOCTYPE html>\n<html>\n<head>\n<meta content=\"text/html; charset=utf-8\" http-equiv=\"content-type\"/>\n<meta content=\"width=device-width, initial-scale=1, maximum-scale=1\" name=\"viewport\"/>\n<meta content=\"authenticity_token\" name=\"csrf-param\"/>\n<meta content=\"fbv124Hx8zdhv+C2ZU/85Y1lzQFUPw6HCgyOxtNrijKjd/OmaiX+2liU57C9l7clSJjIBUhuOAGJu6WlKyxJzA==\" name=\"csrf-token\"/>\n<title>    Analista Planificación Financiera \n - Portal Trabaja con Nosotros - Hiperjob</title>\n<link crossorigin=\"anonymous\" href=\"https://use.fontawesome.com/releases/v5.7.2/css/all.css\" integrity=\"sha384-fnmOCqbTlWIlj8LyTjo7mOUStjsKC4pOpQbqyi7RrhN7udi9RwhKkMHpvLbHG9Sr\" rel=\"stylesheet\"/>\n<link href=\"https://fonts.googleapis.com/css?family=Raleway:300,400,600,800,900\" rel=\"stylesheet\"/>\n<link href=\"/assets/referred-customs-layout-9dfb6f0435eff73804d9e2c3b36e39ef5eab0f5bb0d322b7cb11d2ac7a9b4c34.css\" media=\"all\" rel=\"stylesheet\"/>\n<link href=\"/assets/tcn-customs-layout-c7a2e567f11092314ab449e6abe71eb11d8c46e62fcfde976206c18a5aaab585.css\" media=\"all\" rel=\"stylesheet\"/>\n<link href=\"/assets/itau/styles-tcn-itau-9746ffe7fdff695af21393a15989eab45d8b46d1042e27311e800e629d0a3ae3.css\" media=\"all\" rel=\"stylesheet\"/>\n<style media=\"screen\">\n\n\n\n\t\tinput:focus, select:focus {\n\t\t\tborder-color: #ec7000 !important;\n\t\t}\n\t\theader {\n\t\t\tborder-bottom: 1px solid #e7e7e7;\n\t\t}\n\t\theader .navbar-index .navbar-right li a:hover {\n\t\t    color: #ec7000 !important;\n\t\t}\n        header .navbar-index .navbar-right li {\n\t\t    border-right: 2px solid #808080 !important;\n\t\t}\n        header .navbar-index .navbar-right li:last-child {\n\t\t    border-right: none !important;\n        }\n\t\t.tcn.login::before {\n\t\t\tbackground-color: rgba(236,112,0,1) !important;\n\t\t\tcontent: \"\";\n            height: 100%;\n            position: fixed;\n\t\t\tz-index: -1;\n            width: 100%;\n\t\t}\n\t\t#menu-right li a {\n\t\t\tcolor: #ec7000 !important;\n\t\t}\n        #menu-right li span.info {\n\t\t\tcolor: #ec7000 !important;\n\t\t}\n        #menu li a {\n\t\t\tcolor: #ec7000 !important;\n\t\t}\n        #general-postulation {\n\t\t\tbackground: #ec7000 !important;\n\t\t}\n\t\t.main-back .logIn .log-label{\n\t\t\tcolor: #011169;\n\t\t}\n\t\t.main-back .logIn p {\n\t\t\tcolor: #808080;\n\t\t}\n\t\t.main-back .logIn .form-check-label a{\n\t\t\tcolor: #ec7000;\n\t\t}\n\n        .main-back .logInTCN #cont-back-login a {\n            color: #ec7000;\n        }\n\n        .main-back .logInTCN #create-account-tcn {\n            color: #ec7000;\n        }\n\n\t\t.main-back .logIn p a {\n\t\t\tcolor: #ec7000;\n        }\n\n        \n\t\t.main-back .logIn .btn-logIn{\n\t\t\tbackground: #ec7000;\n\t\t\tborder-color: #ec7000 !important;\n\t\t}\n\t\t.main-back .logIn .btn-logIn:hover{\n\t\t\tbackground: #ec7000 !important;\n\t\t\tborder-color: #ec7000 !important;\n\t\t}\n\t\t.registrar .form-group #list ul li,\n        .registrar .form-group #list-extranjero ul li,\n        .registrar .form-group #list-discapacidad ul li,\n        .registrar .form-group #list-practica ul li {\n\t\t\tbackground: #ec7000;\n\t\t}\n\t\t.registrar .form-group #list ul li .close_text i,\n        .registrar .form-group #list-extranjero ul li .close_text i,\n        .registrar .form-group #list-discapacidad ul li .close_text i,\n        .registrar .form-group #list-practica ul li .close_text i {\n\t\t\tcolor: #ec7000 !important;\n\t\t}\n\t\t.registrar .pager .button-save button {\n\t\t\tbackground: #ec7000 !important;\n\t\t}\n\t\t.registrar .pager .button-save button:hover {\n\t\t\tbackground: #ec7000 !important;\n\t\t}\n\n\t\t.registrar .termino-form h4{\n\t\t\tcolor: #ec7000 !important;\n\t\t}\n\t\t.registrar .pager li a{\n\t\t\tbackground: #ec7000 !important;\n\t\t}\n\t\t.registrar .pager li a:hover{\n\t\t\tbackground: #ec7000 !important;\n\t\t}\n\n\t\t#container-actions button {\n\t\t\tbackground: #ec7000 !important;\n\t\t}\n\n\t\t#container-actions button:hover {\n\t\t\tbackground: #ec7000 !important;\n\t\t}\n\n\t\t#cancel-pass, #save_btn {\n            background: #ec7000;\n        }\n\n\t\t#cancel-pass:hover, #save_btn:hover {\n            background: #ec7000;\n\t\t\topacity: 0.9;\n        }\n\n        .tcn.form_tcn .btn-continue,\n\t\t.tcn_customs.form_tcn .btn-continue,\n\t\t.profile .btn-continue {\n            background: #ec7000 !important;\n        }\n        .tcn .exito h4{\n\t\t\tcolor: #ec7000 !important;\n\t\t}\n\t\t#container-message h4 {\n\t\t\tcolor: #ec7000 !important;\n\t\t}\n\n\t\t.header-section h4 {\n\t\t\tcolor: #ec7000 !important;\n\t\t}\n\n\t\t#upload_modal .modal-title,\n\t\t#subject_modal .modal-title,\n\t\t#help_modal .modal-title {\n\t\t\tcolor: #ec7000 !important;\n\t\t}\n\n\t\t#upload_modal .cont-actions-form .back-send-btn {\n\t\t\tbackground: #ec7000 !important;\n\t\t\tcolor: #FFFFFF;\n\t\t}\n\n        .tcn.form_tcn .btn-continue:hover,\n\t\t.tcn_customs.form_tcn .btn-continue:hover,\n\t\t.profile .btn-continue:hover {\n            background: #ec7000 !important;\n        }\n\t\theader .navbar-index{\n\t\t\tbackground-color: #fff;\n\t\t}\n\t\t.close_text{\n\t\t\tbackground-color: #ec7000;\n\t\t}\n\t\t.check_mark{\n\t\t\tcolor: #ec7000 !important;\n\t\t}\n\t\t.deletable{\n\t\t\tcolor: #ec7000 !important;\n\t\t}\n        .login_gateway.login::before,\n        .tcn.modify_password::before {\n            background-color: rgba(236,112,0,1) !important;\n            content: \"\";\n            height: 100%;\n            position: fixed;\n            z-index: -1;\n            width: 100%;\n        }\n\t\t.tcn_customs #container-tabs-profile .nav-tabs {\n            font-family: 'Lato';\n        }\n        .tcn_customs #container-tabs-profile .nav-tabs li.active a {\n            background-color: #ec7000!important;\n        }\n\n        .cont-detalle .cont-oferta .top .right button{\n\t\t\tbackground-color: #ec7000;\n\t\t}\n\t\t.cont-detalle .cont-oferta .bottom button{\n\t\t\tbackground-color: #ec7000;\n        }\n        .cont-detalle .cont-arrow span, .cont-detalle .cont-arrow i{\n\t\t\tcolor: #011169;\n\t\t}\n        .cont-detalle .cuestionario #postular{\n\t\t\tbackground-color: #ec7000;\n\t\t}\n        .scroll-top i {\n            color: #ec7000 !important;\n        }\n        .cont-detalle .cuestionario .btn-continue {\n            background: #ec7000 !important;\n        }\n        .cont-detalle .cuestionario .btn-continue:hover {\n            background: #ec7000 !important;\n        }\n        .oportunities-cont .oportunidad .top .center span {\n\t\t\tcolor: #011169;\n\t\t}\n\t\t.oportunities-cont .oportunidad .top .right span {\n\t\t\tcolor: #011169;\n        }\n        .hide-desktop .bottom button{\n\t\t\tbackground: #ec7000;\n\t\t\tpadding-top: 3px;\n\t\t}\n\n\t\t.tcn_customs .exito h4 {\n            color: #ec7000;\n        }\n\n            .login_gateway.login,\n            .tcn.modify_password{\n                background: url('') no-repeat top center fixed;\n                -webkit-background-size: cover;\n                -moz-background-size: cover;\n                -o-background-size: cover;\n                background-size: cover;\n            }\n\n\t\t\t.main-back .main-title{\n\t\t\t\tcolor: #ffffff;\n\t\t\t}\n\n\t\t\t\t\t.btn-client, .btn-client:hover {\n\t\t\t\t\t\tbackground-color: #ec7000;\n\t\t\t\t\t\tcolor: white;\n\t\t\t\t\t\tmargin-top: 10px !important;\n\t\t\t\t\t\tfont-family: 'Lato Italic';\n\t\t\t\t\t\tfont-size: 15px;\n\t\t\t\t\t\tline-height: 25px;\n\t\t\t\t\t}\n\n\t</style>\n</head>\n<body class=\"oferts show\">\n<header>\n<nav class=\"navbar navbar-default navbar-index\">\n<div class=\"container\">\n<!-- Brand and toggle get grouped for better mobile display -->\n<div class=\"navbar-header\">\n<button aria-expanded=\"false\" class=\"navbar-toggle collapsed\" data-target=\"#bs-example-navbar-collapse-1\" data-toggle=\"collapse\" type=\"button\">\n<span class=\"sr-only\">Toggle navigation</span>\n<span class=\"icon-bar\"></span>\n<span class=\"icon-bar\"></span>\n<span class=\"icon-bar\"></span>\n</button>\n<a class=\"navbar-brand\" href=\"/\"><img alt=\"Logo itau\" src=\"https://hiperjob-assets.s3-sa-east-1.amazonaws.com/varios/itau/logo-itau.png\"/></a>\n</div>\n<div class=\"collapse navbar-collapse\" id=\"bs-example-navbar-collapse-1\">\n<ul class=\"nav navbar-nav navbar-left\" id=\"menu\">\n<li><a href=\"https://trabajaenitau.cl\">Home_</a></li>\n<li><a href=\"https://trabajaenitau.cl/ofertas\">Ofertas Laborales_</a></li>\n</ul>\n<!-- /.navbar-collapse -->\n</div>\n</div>\n</nav>\n</header>\n<section class=\"padding-cont cont-detalle\">\n<div class=\"container\">\n<div class=\"row\">\n<div class=\"col-sm-12\">\n<div class=\"cont-arrow\">\n<a href=\"/ofertas\">\n<i aria-hidden=\"true\" class=\"fa fa-chevron-left\"></i>\n<span>Volver a todas las ofertas</span>\n</a>\n</div>\n</div>\n</div>\n<div class=\"row\">\n<div class=\"col-sm-12\">\n<div class=\"row\">\n<div class=\"col-sm-12\">\n<div class=\"cont-oferta\">\n<div class=\"top\">\n<div class=\"col-sm-6 col-xs-8 left\">\n<h4>Analista Planificación Financiera  </h4>\n<span>Las Condes</span>\n<p>Publicado: <span>09/08/2022</span></p>\n</div>\n<div class=\"col-sm-6 col-xs-4 right text-right\">\n<a href=\"/ofertas/2976-analista-planificacion-financiera/postular\">\n<button name=\"button\" type=\"submit\">Postular</button>\n</a>\n</div>\n</div>\n<div class=\"middle col-sm-12\">\n<p></p><p>Y tú ¿Buscas un lugar donde crecer profesionalmente? </p><p><br/></p><p>En @ItauChile buscamos potenciar el poder de transformación de las personas. Por eso, te invitamos a postular al cargo de Analista Financiero Control de Gestión, donde tendrás como principal misión el Análisis y optimización de la rentabilidad de productos y negocios del banco</p><p><br/></p><p>Tus funciones serán: </p><p><br/></p><p>- <span style=\"white-space:pre\"> </span>Análisis de rentabilidad histórica y esperada para los distintos productos y negocios </p><p>-<span style=\"white-space:pre\"> </span>Desarrollo de herramientas que ayuden a los negocios a comprender las </p><p>        palancas de rentabilidad y su optimización.</p><p>-<span style=\"white-space:pre\"> </span>Análisis de mercado y Benchmark de indicadores relevantes de la industria </p><p>        bancaria.</p><p>-<span style=\"white-space:pre\"> </span>Valoración y evaluación de proyectos.</p><p><br/></p><p>Nos orientamos a carreras de Ingeniería con: </p><p><br/></p><p>- <span style=\"white-space:pre\"> </span>Excel, PowerPoint avanzado</p><p>-<span style=\"white-space:pre\"> </span>Python o R deseable</p><p>-<span style=\"white-space:pre\"> </span>SQL intermedio</p><p>-<span style=\"white-space:pre\"> </span>Conocimiento de finanzas (foco en renta fija y evaluación de proyectos)</p><p>-<span style=\"white-space:pre\"> </span>Conocimiento de contabilidad (análisis de EEFF)</p><p>-<span style=\"white-space:pre\"> </span>Inglés deseable</p><p>-      1 a 3 años de experiencia en roles similares. </p><p><br/></p><p>¡Ven y se parte de Itaú!</p>\n</div>\n<div class=\"bottom col-sm-12\">\n<a href=\"/ofertas/2976-analista-planificacion-financiera/postular\">\n<button name=\"button\" type=\"button\">Postular</button>\n</a> </div>\n</div>\n</div>\n</div>\n</div>\n</div>\n</div>\n</section>\n<script src=\"/assets/referred-customs-0d1bd2080bdb8121f7f033140bb36cbf4917100e00dee26e617a67474a9258a0.js\"></script>\n<script src=\"/assets/tcn-customs-979fec9b371a8cfab7b8b00b79d9f8948f7d910deec0282b4e2ca4cc276944bf.js\"></script>\n</body>\n</html>"
                    },
                    "metadata": {},
                    "execution_count": 97,
                    "output_type": "execute_result"
                }
            ],
            "execution_count": 97
        },
        {
            "cell_type": "code",
            "source": [
                "soup = BeautifulSoup(str(prueba), 'html.parser')"
            ],
            "metadata": {
                "language": "python",
                "azdata_cell_guid": "53a9d80f-0b21-402b-8412-64d8add74c6c"
            },
            "outputs": [],
            "execution_count": 98
        },
        {
            "cell_type": "code",
            "source": [
                "soup.title.string\r\n",
                ""
            ],
            "metadata": {
                "language": "python",
                "azdata_cell_guid": "6f910867-e30c-4105-8dfb-e0775e5b6b43"
            },
            "outputs": [
                {
                    "data": {
                        "text/plain": "'    Analista Planificación Financiera \\n - Portal Trabaja con Nosotros - Hiperjob'"
                    },
                    "metadata": {},
                    "execution_count": 102,
                    "output_type": "execute_result"
                }
            ],
            "execution_count": 102
        },
        {
            "cell_type": "code",
            "source": [
                "table = soup.find_all('p')"
            ],
            "metadata": {
                "language": "python",
                "azdata_cell_guid": "273eca31-876d-4afb-9af1-2cf14b1dc789"
            },
            "outputs": [],
            "execution_count": 108
        },
        {
            "cell_type": "code",
            "source": [
                "for tag in table:\r\n",
                "    print(tag.string) "
            ],
            "metadata": {
                "language": "python",
                "azdata_cell_guid": "6889607e-75d3-45cb-9d4b-e41057718a1d"
            },
            "outputs": [
                {
                    "name": "stdout",
                    "text": "None\nNone\nY tú ¿Buscas un lugar donde crecer profesionalmente? \nNone\nEn @ItauChile buscamos potenciar el poder de transformación de las personas. Por eso, te invitamos a postular al cargo de Analista Financiero Control de Gestión, donde tendrás como principal misión el Análisis y optimización de la rentabilidad de productos y negocios del banco\nNone\nTus funciones serán: \nNone\nNone\nNone\n        palancas de rentabilidad y su optimización.\nNone\n        bancaria.\nNone\nNone\nNos orientamos a carreras de Ingeniería con: \nNone\nNone\nNone\nNone\nNone\nNone\nNone\n-      1 a 3 años de experiencia en roles similares. \nNone\n¡Ven y se parte de Itaú!\n",
                    "output_type": "stream"
                }
            ],
            "execution_count": 115
        }
    ]
}