{
    "metadata": {
        "kernelspec": {
            "name": "python3",
            "display_name": "Python 3 (ipykernel)",
            "language": "python"
        },
        "language_info": {
            "name": "python",
            "version": "3.9.12",
            "mimetype": "text/x-python",
            "codemirror_mode": {
                "name": "ipython",
                "version": 3
            },
            "pygments_lexer": "ipython3",
            "nbconvert_exporter": "python",
            "file_extension": ".py"
        }
    },
    "nbformat_minor": 2,
    "nbformat": 4,
    "cells": [
        {
            "cell_type": "markdown",
            "source": [
                "# Librerias"
            ],
            "metadata": {
                "language": "python",
                "azdata_cell_guid": "e200e12d-cf74-4d54-ac82-845584761082"
            },
            "attachments": {}
        },
        {
            "cell_type": "code",
            "source": [
                "import pandas as pd\r\n",
                "import urllib.request\r\n",
                "from bs4 import BeautifulSoup\r\n",
                ""
            ],
            "metadata": {
                "azdata_cell_guid": "039c4140-24ff-4711-81dc-c06003a8fb77",
                "language": "python"
            },
            "outputs": [],
            "execution_count": 41
        },
        {
            "cell_type": "markdown",
            "source": [
                "# Funciones"
            ],
            "metadata": {
                "language": "python",
                "azdata_cell_guid": "e5e05270-8347-45c7-ac9c-392bc0ac5498"
            },
            "attachments": {}
        },
        {
            "cell_type": "code",
            "source": [
                "def leerUrl(pagina):\r\n",
                "    \r\n",
                "    soup = BeautifulSoup(urllib.request.urlopen(pagina).read().decode())\r\n",
                "    return  soup\r\n",
                "def ParsearPagina (html_doc):\r\n",
                "    return BeautifulSoup(html_doc, 'html.parser')\r\n",
                "\r\n",
                "def ExtraerLinkPaginasOfertas(linkPage,patronBusqueda):\r\n",
                "    listaofertas = []\r\n",
                "    for tag in linkPage:\r\n",
                "        valor = tag.get('href')\r\n",
                "        if(valor.find(patronBusqueda) != -1):\r\n",
                "            listaofertas.append('https://postulaciones.trabajaenitau.cl'+valor)\r\n",
                "    return listaofertas\r\n",
                "def ExtraerLinkIssues(linkPage):\r\n",
                "    lista = []\r\n",
                "    for tag in linkPage:\r\n",
                "        valor = tag.get('href')\r\n",
                "        if(valor.find('/pescap/WebScrapingMDS/issues/') != -1):\r\n",
                "            lista.append('https://github.com/'+ valor)\r\n",
                "    df = pd.DataFrame (lista, columns = ['url_issues'])\r\n",
                "    return df\r\n",
                "\r\n",
                ""
            ],
            "metadata": {
                "language": "python",
                "azdata_cell_guid": "e0fecf3c-1d84-4932-b84d-bfec33fc97bc",
                "tags": []
            },
            "outputs": [],
            "execution_count": 93
        },
        {
            "cell_type": "markdown",
            "source": [
                "# Cargar Pagina de Interes"
            ],
            "metadata": {
                "language": "python",
                "azdata_cell_guid": "e7a77616-7c76-424e-9839-59b3ded662d7"
            },
            "attachments": {}
        },
        {
            "cell_type": "code",
            "source": [
                "Pagina = 'https://trabajaenitau.cl/ofertas'\r\n",
                "DataPaginaBase = leerUrl(Pagina)\r\n",
                ""
            ],
            "metadata": {
                "language": "python",
                "azdata_cell_guid": "fde5816b-3f68-4dbc-9f45-604be5060aba",
                "tags": [
                    "hide_input"
                ]
            },
            "outputs": [],
            "execution_count": 10
        },
        {
            "cell_type": "code",
            "source": [
                "DataPaginaBase"
            ],
            "metadata": {
                "language": "python",
                "azdata_cell_guid": "7134cd11-d2f8-4f91-99ec-b1837b121ce2"
            },
            "outputs": [],
            "execution_count": null
        },
        {
            "cell_type": "markdown",
            "source": [
                "# Extraer Lista de Ofertas"
            ],
            "metadata": {
                "language": "python",
                "azdata_cell_guid": "14dd6fd9-00df-4ea3-b7b1-202d1e229274"
            },
            "attachments": {}
        },
        {
            "cell_type": "code",
            "source": [
                "patron = '/ofertas/'\r\n",
                "tags = DataPaginaBase('a')\r\n",
                "\r\n",
                "listaOfertas = ExtraerLinkPaginasOfertas(tags,patron)\r\n",
                ""
            ],
            "metadata": {
                "language": "python",
                "azdata_cell_guid": "1646b0c8-003a-433b-962d-579067cbd742"
            },
            "outputs": [],
            "execution_count": 6
        },
        {
            "cell_type": "code",
            "source": [
                "listaOfertas"
            ],
            "metadata": {
                "language": "python",
                "azdata_cell_guid": "324ef4bb-5adb-49a4-8c1f-62d6a5250798"
            },
            "outputs": [],
            "execution_count": null
        },
        {
            "cell_type": "markdown",
            "source": [
                "# Prueba de Concepto \n",
                "\n",
                "se intentara trozar una primera oferta laboral para hacerla funcion y masiva posteriormente, asi la guardaria en un dataframe."
            ],
            "metadata": {
                "language": "python",
                "azdata_cell_guid": "fd8cb974-6d4b-45ad-84c3-b0cea951c5da"
            },
            "attachments": {}
        },
        {
            "cell_type": "code",
            "source": [
                "prueba = leerUrl(listaofertas[0])"
            ],
            "metadata": {
                "language": "python",
                "azdata_cell_guid": "527da3f8-a4e3-4e55-95fc-cc67497047d6"
            },
            "outputs": [],
            "execution_count": 96
        },
        {
            "cell_type": "code",
            "source": [
                "prueba\r\n",
                "#pag = ParsearPagina(prueba)\r\n",
                "\r\n",
                "#print(ParsearPagina(prueba).prettify())\r\n",
                "\r\n",
                ""
            ],
            "metadata": {
                "language": "python",
                "azdata_cell_guid": "99ea3d81-de46-4180-984d-61864ffa5788",
                "tags": []
            },
            "outputs": [],
            "execution_count": null
        },
        {
            "cell_type": "code",
            "source": [
                "soup = BeautifulSoup(str(prueba), 'html.parser')"
            ],
            "metadata": {
                "language": "python",
                "azdata_cell_guid": "53a9d80f-0b21-402b-8412-64d8add74c6c"
            },
            "outputs": [],
            "execution_count": 98
        },
        {
            "cell_type": "code",
            "source": [
                "soup.title.string\r\n",
                ""
            ],
            "metadata": {
                "language": "python",
                "azdata_cell_guid": "6f910867-e30c-4105-8dfb-e0775e5b6b43"
            },
            "outputs": [
                {
                    "output_type": "execute_result",
                    "execution_count": 102,
                    "data": {
                        "text/plain": "'    Analista Planificación Financiera \\n - Portal Trabaja con Nosotros - Hiperjob'"
                    },
                    "metadata": {}
                }
            ],
            "execution_count": 102
        },
        {
            "cell_type": "code",
            "source": [
                "table = soup.find_all('p')"
            ],
            "metadata": {
                "language": "python",
                "azdata_cell_guid": "273eca31-876d-4afb-9af1-2cf14b1dc789"
            },
            "outputs": [],
            "execution_count": 108
        },
        {
            "cell_type": "code",
            "source": [
                "for tag in table:\r\n",
                "    print(tag.string) "
            ],
            "metadata": {
                "language": "python",
                "azdata_cell_guid": "6889607e-75d3-45cb-9d4b-e41057718a1d"
            },
            "outputs": [],
            "execution_count": null
        },
        {
            "cell_type": "code",
            "source": [
                "Pagina = 'https://github.com/pescap/WebScrapingMDS/issues'\r\n",
                "PageIssues = leerUrl(Pagina)"
            ],
            "metadata": {
                "language": "python",
                "azdata_cell_guid": "b15e2d45-45ae-4ba4-ae9d-512084d1aefb"
            },
            "outputs": [],
            "execution_count": 94
        },
        {
            "cell_type": "code",
            "source": [
                "PageIssues(2)"
            ],
            "metadata": {
                "language": "python",
                "azdata_cell_guid": "ab779098-4637-4486-a433-f495eb7a53b1"
            },
            "outputs": [
                {
                    "data": {
                        "text/plain": "[]"
                    },
                    "metadata": {},
                    "execution_count": 44,
                    "output_type": "execute_result"
                }
            ],
            "execution_count": 44
        },
        {
            "cell_type": "code",
            "source": [
                "<a class=\"d-block d-md-none position-absolute top-0 bottom-0 left-0 right-0\" \r\n",
                "aria-label=\"Link to Issue. GitHub Desktop\" href=\"/pescap/WebScrapingMDS/issues/48\"></a>"
            ],
            "metadata": {
                "language": "python",
                "azdata_cell_guid": "420dda48-d69f-488a-90dd-3b256605d296",
                "tags": []
            },
            "outputs": [],
            "execution_count": null
        },
        {
            "cell_type": "code",
            "source": [
                "tags = PageIssues('a')\r\n",
                "\r\n",
                "tags"
            ],
            "metadata": {
                "language": "python",
                "azdata_cell_guid": "fec26da3-3285-41a1-9c92-a79c106a09d6"
            },
            "outputs": [],
            "execution_count": null
        },
        {
            "cell_type": "code",
            "source": [
                "lista = ExtraerLinkIssues(tags)\r\n",
                "lista = lista.drop_duplicates()\r\n",
                "lista\r\n",
                ""
            ],
            "metadata": {
                "language": "python",
                "azdata_cell_guid": "6832ec5a-c609-4555-a26b-2ada6d3a0d54"
            },
            "outputs": [
                {
                    "data": {
                        "text/plain": "                                           url_issues\n0   https://github.com//pescap/WebScrapingMDS/issu...\n2   https://github.com//pescap/WebScrapingMDS/issu...\n5   https://github.com//pescap/WebScrapingMDS/issu...\n7   https://github.com//pescap/WebScrapingMDS/issu...\n10  https://github.com//pescap/WebScrapingMDS/issu...\n12  https://github.com//pescap/WebScrapingMDS/issu...\n15  https://github.com//pescap/WebScrapingMDS/issu...\n18  https://github.com//pescap/WebScrapingMDS/issu...\n21  https://github.com//pescap/WebScrapingMDS/issu...\n24  https://github.com//pescap/WebScrapingMDS/issu...\n27  https://github.com//pescap/WebScrapingMDS/issu...\n30  https://github.com//pescap/WebScrapingMDS/issu...\n32  https://github.com//pescap/WebScrapingMDS/issu...\n34  https://github.com//pescap/WebScrapingMDS/issu...\n36  https://github.com//pescap/WebScrapingMDS/issu...\n39  https://github.com//pescap/WebScrapingMDS/issu...",
                        "text/html": "<div>\n<style scoped>\n    .dataframe tbody tr th:only-of-type {\n        vertical-align: middle;\n    }\n\n    .dataframe tbody tr th {\n        vertical-align: top;\n    }\n\n    .dataframe thead th {\n        text-align: right;\n    }\n</style>\n<table border=\"1\" class=\"dataframe\">\n  <thead>\n    <tr style=\"text-align: right;\">\n      <th></th>\n      <th>url_issues</th>\n    </tr>\n  </thead>\n  <tbody>\n    <tr>\n      <th>0</th>\n      <td>https://github.com//pescap/WebScrapingMDS/issu...</td>\n    </tr>\n    <tr>\n      <th>2</th>\n      <td>https://github.com//pescap/WebScrapingMDS/issu...</td>\n    </tr>\n    <tr>\n      <th>5</th>\n      <td>https://github.com//pescap/WebScrapingMDS/issu...</td>\n    </tr>\n    <tr>\n      <th>7</th>\n      <td>https://github.com//pescap/WebScrapingMDS/issu...</td>\n    </tr>\n    <tr>\n      <th>10</th>\n      <td>https://github.com//pescap/WebScrapingMDS/issu...</td>\n    </tr>\n    <tr>\n      <th>12</th>\n      <td>https://github.com//pescap/WebScrapingMDS/issu...</td>\n    </tr>\n    <tr>\n      <th>15</th>\n      <td>https://github.com//pescap/WebScrapingMDS/issu...</td>\n    </tr>\n    <tr>\n      <th>18</th>\n      <td>https://github.com//pescap/WebScrapingMDS/issu...</td>\n    </tr>\n    <tr>\n      <th>21</th>\n      <td>https://github.com//pescap/WebScrapingMDS/issu...</td>\n    </tr>\n    <tr>\n      <th>24</th>\n      <td>https://github.com//pescap/WebScrapingMDS/issu...</td>\n    </tr>\n    <tr>\n      <th>27</th>\n      <td>https://github.com//pescap/WebScrapingMDS/issu...</td>\n    </tr>\n    <tr>\n      <th>30</th>\n      <td>https://github.com//pescap/WebScrapingMDS/issu...</td>\n    </tr>\n    <tr>\n      <th>32</th>\n      <td>https://github.com//pescap/WebScrapingMDS/issu...</td>\n    </tr>\n    <tr>\n      <th>34</th>\n      <td>https://github.com//pescap/WebScrapingMDS/issu...</td>\n    </tr>\n    <tr>\n      <th>36</th>\n      <td>https://github.com//pescap/WebScrapingMDS/issu...</td>\n    </tr>\n    <tr>\n      <th>39</th>\n      <td>https://github.com//pescap/WebScrapingMDS/issu...</td>\n    </tr>\n  </tbody>\n</table>\n</div>"
                    },
                    "metadata": {},
                    "execution_count": 95,
                    "output_type": "execute_result"
                }
            ],
            "execution_count": 95
        },
        {
            "cell_type": "code",
            "source": [
                "for i in range(len(lista)):\r\n",
                "    #print(lista.iloc[i]['url_issues'])\r\n",
                "    link = str(lista.iloc[i]['url_issues'])\r\n",
                "    print(link)\r\n",
                "    page = leerUrl(link)\r\n",
                "    vr = page.find(\"span\", attrs= {\"class\":\"State\"}  ) \r\n",
                "    print(vr)\r\n",
                "    #if page.find(\"span\",attrs={\"title\":\"Status: Closed\"}):\r\n",
                "    #    print(\"cerrado\")\r\n",
                "   "
            ],
            "metadata": {
                "language": "python",
                "azdata_cell_guid": "998148dd-27c2-4a62-b9e1-72fb8020e1de",
                "tags": []
            },
            "outputs": [
                {
                    "name": "stdout",
                    "text": "https://github.com//pescap/WebScrapingMDS/issues/54\n",
                    "output_type": "stream"
                },
                {
                    "name": "stdout",
                    "text": "<span class=\"State State--open\" data-view-component=\"true\" title=\"Status: Open\">\n<svg aria-hidden=\"true\" class=\"octicon octicon-issue-opened\" height=\"16\" version=\"1.1\" viewbox=\"0 0 16 16\" width=\"16\"><path d=\"M8 9.5a1.5 1.5 0 100-3 1.5 1.5 0 000 3z\"></path><path d=\"M8 0a8 8 0 100 16A8 8 0 008 0zM1.5 8a6.5 6.5 0 1113 0 6.5 6.5 0 01-13 0z\" fill-rule=\"evenodd\"></path></svg> Open\n</span>\nhttps://github.com//pescap/WebScrapingMDS/issues/50\n",
                    "output_type": "stream"
                },
                {
                    "name": "stdout",
                    "text": "<span class=\"State State--open\" data-view-component=\"true\" title=\"Status: Open\">\n<svg aria-hidden=\"true\" class=\"octicon octicon-issue-opened\" height=\"16\" version=\"1.1\" viewbox=\"0 0 16 16\" width=\"16\"><path d=\"M8 9.5a1.5 1.5 0 100-3 1.5 1.5 0 000 3z\"></path><path d=\"M8 0a8 8 0 100 16A8 8 0 008 0zM1.5 8a6.5 6.5 0 1113 0 6.5 6.5 0 01-13 0z\" fill-rule=\"evenodd\"></path></svg> Open\n</span>\nhttps://github.com//pescap/WebScrapingMDS/issues/48\n",
                    "output_type": "stream"
                },
                {
                    "name": "stdout",
                    "text": "<span class=\"State State--open\" data-view-component=\"true\" title=\"Status: Open\">\n<svg aria-hidden=\"true\" class=\"octicon octicon-issue-opened\" height=\"16\" version=\"1.1\" viewbox=\"0 0 16 16\" width=\"16\"><path d=\"M8 9.5a1.5 1.5 0 100-3 1.5 1.5 0 000 3z\"></path><path d=\"M8 0a8 8 0 100 16A8 8 0 008 0zM1.5 8a6.5 6.5 0 1113 0 6.5 6.5 0 01-13 0z\" fill-rule=\"evenodd\"></path></svg> Open\n</span>\nhttps://github.com//pescap/WebScrapingMDS/issues/47\n",
                    "output_type": "stream"
                },
                {
                    "name": "stdout",
                    "text": "<span class=\"State State--merged\" data-view-component=\"true\" title=\"Status: Closed\">\n<svg aria-hidden=\"true\" class=\"octicon octicon-issue-closed\" height=\"16\" version=\"1.1\" viewbox=\"0 0 16 16\" width=\"16\"><path d=\"M11.28 6.78a.75.75 0 00-1.06-1.06L7.25 8.69 5.78 7.22a.75.75 0 00-1.06 1.06l2 2a.75.75 0 001.06 0l3.5-3.5z\"></path><path d=\"M16 8A8 8 0 110 8a8 8 0 0116 0zm-1.5 0a6.5 6.5 0 11-13 0 6.5 6.5 0 0113 0z\" fill-rule=\"evenodd\"></path></svg> Closed\n</span>\nhttps://github.com//pescap/WebScrapingMDS/issues/46\n",
                    "output_type": "stream"
                },
                {
                    "name": "stdout",
                    "text": "<span class=\"State State--open\" data-view-component=\"true\" title=\"Status: Open\">\n<svg aria-hidden=\"true\" class=\"octicon octicon-issue-opened\" height=\"16\" version=\"1.1\" viewbox=\"0 0 16 16\" width=\"16\"><path d=\"M8 9.5a1.5 1.5 0 100-3 1.5 1.5 0 000 3z\"></path><path d=\"M8 0a8 8 0 100 16A8 8 0 008 0zM1.5 8a6.5 6.5 0 1113 0 6.5 6.5 0 01-13 0z\" fill-rule=\"evenodd\"></path></svg> Open\n</span>\nhttps://github.com//pescap/WebScrapingMDS/issues/45\n",
                    "output_type": "stream"
                },
                {
                    "name": "stdout",
                    "text": "<span class=\"State State--open\" data-view-component=\"true\" title=\"Status: Open\">\n<svg aria-hidden=\"true\" class=\"octicon octicon-issue-opened\" height=\"16\" version=\"1.1\" viewbox=\"0 0 16 16\" width=\"16\"><path d=\"M8 9.5a1.5 1.5 0 100-3 1.5 1.5 0 000 3z\"></path><path d=\"M8 0a8 8 0 100 16A8 8 0 008 0zM1.5 8a6.5 6.5 0 1113 0 6.5 6.5 0 01-13 0z\" fill-rule=\"evenodd\"></path></svg> Open\n</span>\nhttps://github.com//pescap/WebScrapingMDS/issues/43\n",
                    "output_type": "stream"
                },
                {
                    "name": "stdout",
                    "text": "<span class=\"State State--open\" data-view-component=\"true\" title=\"Status: Open\">\n<svg aria-hidden=\"true\" class=\"octicon octicon-issue-opened\" height=\"16\" version=\"1.1\" viewbox=\"0 0 16 16\" width=\"16\"><path d=\"M8 9.5a1.5 1.5 0 100-3 1.5 1.5 0 000 3z\"></path><path d=\"M8 0a8 8 0 100 16A8 8 0 008 0zM1.5 8a6.5 6.5 0 1113 0 6.5 6.5 0 01-13 0z\" fill-rule=\"evenodd\"></path></svg> Open\n</span>\nhttps://github.com//pescap/WebScrapingMDS/issues/34\n",
                    "output_type": "stream"
                },
                {
                    "name": "stdout",
                    "text": "<span class=\"State State--open\" data-view-component=\"true\" title=\"Status: Open\">\n<svg aria-hidden=\"true\" class=\"octicon octicon-issue-opened\" height=\"16\" version=\"1.1\" viewbox=\"0 0 16 16\" width=\"16\"><path d=\"M8 9.5a1.5 1.5 0 100-3 1.5 1.5 0 000 3z\"></path><path d=\"M8 0a8 8 0 100 16A8 8 0 008 0zM1.5 8a6.5 6.5 0 1113 0 6.5 6.5 0 01-13 0z\" fill-rule=\"evenodd\"></path></svg> Open\n</span>\nhttps://github.com//pescap/WebScrapingMDS/issues/29\n",
                    "output_type": "stream"
                },
                {
                    "name": "stdout",
                    "text": "<span class=\"State State--open\" data-view-component=\"true\" title=\"Status: Open\">\n<svg aria-hidden=\"true\" class=\"octicon octicon-issue-opened\" height=\"16\" version=\"1.1\" viewbox=\"0 0 16 16\" width=\"16\"><path d=\"M8 9.5a1.5 1.5 0 100-3 1.5 1.5 0 000 3z\"></path><path d=\"M8 0a8 8 0 100 16A8 8 0 008 0zM1.5 8a6.5 6.5 0 1113 0 6.5 6.5 0 01-13 0z\" fill-rule=\"evenodd\"></path></svg> Open\n</span>\nhttps://github.com//pescap/WebScrapingMDS/issues/27\n",
                    "output_type": "stream"
                },
                {
                    "name": "stdout",
                    "text": "<span class=\"State State--open\" data-view-component=\"true\" title=\"Status: Open\">\n<svg aria-hidden=\"true\" class=\"octicon octicon-issue-opened\" height=\"16\" version=\"1.1\" viewbox=\"0 0 16 16\" width=\"16\"><path d=\"M8 9.5a1.5 1.5 0 100-3 1.5 1.5 0 000 3z\"></path><path d=\"M8 0a8 8 0 100 16A8 8 0 008 0zM1.5 8a6.5 6.5 0 1113 0 6.5 6.5 0 01-13 0z\" fill-rule=\"evenodd\"></path></svg> Open\n</span>\nhttps://github.com//pescap/WebScrapingMDS/issues/24\n",
                    "output_type": "stream"
                },
                {
                    "name": "stdout",
                    "text": "<span class=\"State State--open\" data-view-component=\"true\" title=\"Status: Open\">\n<svg aria-hidden=\"true\" class=\"octicon octicon-issue-opened\" height=\"16\" version=\"1.1\" viewbox=\"0 0 16 16\" width=\"16\"><path d=\"M8 9.5a1.5 1.5 0 100-3 1.5 1.5 0 000 3z\"></path><path d=\"M8 0a8 8 0 100 16A8 8 0 008 0zM1.5 8a6.5 6.5 0 1113 0 6.5 6.5 0 01-13 0z\" fill-rule=\"evenodd\"></path></svg> Open\n</span>\nhttps://github.com//pescap/WebScrapingMDS/issues/21\n",
                    "output_type": "stream"
                },
                {
                    "name": "stdout",
                    "text": "<span class=\"State State--open\" data-view-component=\"true\" title=\"Status: Open\">\n<svg aria-hidden=\"true\" class=\"octicon octicon-issue-opened\" height=\"16\" version=\"1.1\" viewbox=\"0 0 16 16\" width=\"16\"><path d=\"M8 9.5a1.5 1.5 0 100-3 1.5 1.5 0 000 3z\"></path><path d=\"M8 0a8 8 0 100 16A8 8 0 008 0zM1.5 8a6.5 6.5 0 1113 0 6.5 6.5 0 01-13 0z\" fill-rule=\"evenodd\"></path></svg> Open\n</span>\nhttps://github.com//pescap/WebScrapingMDS/issues/20\n",
                    "output_type": "stream"
                },
                {
                    "name": "stdout",
                    "text": "<span class=\"State State--open\" data-view-component=\"true\" title=\"Status: Open\">\n<svg aria-hidden=\"true\" class=\"octicon octicon-issue-opened\" height=\"16\" version=\"1.1\" viewbox=\"0 0 16 16\" width=\"16\"><path d=\"M8 9.5a1.5 1.5 0 100-3 1.5 1.5 0 000 3z\"></path><path d=\"M8 0a8 8 0 100 16A8 8 0 008 0zM1.5 8a6.5 6.5 0 1113 0 6.5 6.5 0 01-13 0z\" fill-rule=\"evenodd\"></path></svg> Open\n</span>\nhttps://github.com//pescap/WebScrapingMDS/issues/17\n",
                    "output_type": "stream"
                },
                {
                    "name": "stdout",
                    "text": "<span class=\"State State--open\" data-view-component=\"true\" title=\"Status: Open\">\n<svg aria-hidden=\"true\" class=\"octicon octicon-issue-opened\" height=\"16\" version=\"1.1\" viewbox=\"0 0 16 16\" width=\"16\"><path d=\"M8 9.5a1.5 1.5 0 100-3 1.5 1.5 0 000 3z\"></path><path d=\"M8 0a8 8 0 100 16A8 8 0 008 0zM1.5 8a6.5 6.5 0 1113 0 6.5 6.5 0 01-13 0z\" fill-rule=\"evenodd\"></path></svg> Open\n</span>\nhttps://github.com//pescap/WebScrapingMDS/issues/5\n",
                    "output_type": "stream"
                },
                {
                    "name": "stdout",
                    "text": "<span class=\"State State--open\" data-view-component=\"true\" title=\"Status: Open\">\n<svg aria-hidden=\"true\" class=\"octicon octicon-issue-opened\" height=\"16\" version=\"1.1\" viewbox=\"0 0 16 16\" width=\"16\"><path d=\"M8 9.5a1.5 1.5 0 100-3 1.5 1.5 0 000 3z\"></path><path d=\"M8 0a8 8 0 100 16A8 8 0 008 0zM1.5 8a6.5 6.5 0 1113 0 6.5 6.5 0 01-13 0z\" fill-rule=\"evenodd\"></path></svg> Open\n</span>\nhttps://github.com//pescap/WebScrapingMDS/issues/1\n",
                    "output_type": "stream"
                },
                {
                    "name": "stdout",
                    "text": "<span class=\"State State--open\" data-view-component=\"true\" title=\"Status: Open\">\n<svg aria-hidden=\"true\" class=\"octicon octicon-issue-opened\" height=\"16\" version=\"1.1\" viewbox=\"0 0 16 16\" width=\"16\"><path d=\"M8 9.5a1.5 1.5 0 100-3 1.5 1.5 0 000 3z\"></path><path d=\"M8 0a8 8 0 100 16A8 8 0 008 0zM1.5 8a6.5 6.5 0 1113 0 6.5 6.5 0 01-13 0z\" fill-rule=\"evenodd\"></path></svg> Open\n</span>\n",
                    "output_type": "stream"
                }
            ],
            "execution_count": 100
        },
        {
            "cell_type": "code",
            "source": [
                "<span title=\"Status: Open\" data-view-component=\"true\" class=\"State State--open\">"
            ],
            "metadata": {
                "language": "python",
                "azdata_cell_guid": "84a260ee-ea9a-4d5d-9185-3dfff3739d32"
            },
            "outputs": [],
            "execution_count": null
        },
        {
            "cell_type": "code",
            "source": [
                "p = leerUrl('https://github.com//pescap/WebScrapingMDS/issues/47')\r\n",
                "vr = p.find(\"span\", attrs= {\"class\":\"State\"}  ) \r\n",
                "vr"
            ],
            "metadata": {
                "language": "python",
                "azdata_cell_guid": "88766713-9f01-44b9-9738-f423fdfc6c49"
            },
            "outputs": [
                {
                    "data": {
                        "text/plain": "<span class=\"State State--merged\" data-view-component=\"true\" title=\"Status: Closed\">\n<svg aria-hidden=\"true\" class=\"octicon octicon-issue-closed\" height=\"16\" version=\"1.1\" viewbox=\"0 0 16 16\" width=\"16\"><path d=\"M11.28 6.78a.75.75 0 00-1.06-1.06L7.25 8.69 5.78 7.22a.75.75 0 00-1.06 1.06l2 2a.75.75 0 001.06 0l3.5-3.5z\"></path><path d=\"M16 8A8 8 0 110 8a8 8 0 0116 0zm-1.5 0a6.5 6.5 0 11-13 0 6.5 6.5 0 0113 0z\" fill-rule=\"evenodd\"></path></svg> Closed\n</span>"
                    },
                    "metadata": {},
                    "execution_count": 97,
                    "output_type": "execute_result"
                }
            ],
            "execution_count": 97
        }
    ]
}